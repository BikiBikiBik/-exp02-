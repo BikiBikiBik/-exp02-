{
 "cells": [
  {
   "cell_type": "code",
   "execution_count": 26,
   "id": "7dc23c72",
   "metadata": {},
   "outputs": [],
   "source": [
    "import numpy as np\n",
    "import pandas as pd\n",
    "from sklearn import datasets\n",
    "#\n",
    "from sklearn import model_selection\n",
    "from sklearn import metrics\n",
    "\n",
    "dataset = datasets.load_diabetes()\n"
   ]
  },
  {
   "cell_type": "code",
   "execution_count": 27,
   "id": "7bf9ee05",
   "metadata": {},
   "outputs": [
    {
     "name": "stdout",
     "output_type": "stream",
     "text": [
      "(442, 10)\n",
      "(442,)\n"
     ]
    }
   ],
   "source": [
    "X = dataset.data\n",
    "y = dataset.target\n",
    "print(X.shape) #(442, 10)\n",
    "print(y.shape) #(442,)"
   ]
  },
  {
   "cell_type": "code",
   "execution_count": null,
   "id": "e386faab",
   "metadata": {},
   "outputs": [],
   "source": []
  },
  {
   "cell_type": "code",
   "execution_count": 28,
   "id": "83dfce76",
   "metadata": {},
   "outputs": [
    {
     "name": "stdout",
     "output_type": "stream",
     "text": [
      "(353, 10) (353,)\n",
      "(89, 10) (89,)\n"
     ]
    }
   ],
   "source": [
    "from sklearn.model_selection import train_test_split\n",
    "\n",
    "X_train, X_test, y_train, y_test = train_test_split(X, y, test_size=0.2, random_state=42)\n",
    "\n",
    "print(X_train.shape, y_train.shape)\n",
    "print(X_test.shape, y_test.shape)"
   ]
  },
  {
   "cell_type": "code",
   "execution_count": 29,
   "id": "7c770052",
   "metadata": {},
   "outputs": [],
   "source": [
    "W = np.random.rand(10)\n",
    "b = np.random.rand()"
   ]
  },
  {
   "cell_type": "code",
   "execution_count": 30,
   "id": "a4492857",
   "metadata": {},
   "outputs": [],
   "source": [
    "def model(X, W, b):\n",
    "    predictions = 0\n",
    "    for i in range(10):\n",
    "        predictions += X[:, i] * W[i]\n",
    "    predictions += b\n",
    "    return predictions"
   ]
  },
  {
   "cell_type": "code",
   "execution_count": 31,
   "id": "e935de22",
   "metadata": {},
   "outputs": [],
   "source": [
    "def MSE(a, b):\n",
    "    mse = ((a - b) ** 2).mean()  # 두 값의 차이의 제곱의 평균\n",
    "    return mse"
   ]
  },
  {
   "cell_type": "code",
   "execution_count": 32,
   "id": "8224d5d7",
   "metadata": {},
   "outputs": [],
   "source": [
    "def loss(X, W, b, y):\n",
    "    predictions = model(X, W, b)\n",
    "    L = MSE(predictions, y)\n",
    "    return L"
   ]
  },
  {
   "cell_type": "code",
   "execution_count": 33,
   "id": "da9bee14",
   "metadata": {},
   "outputs": [],
   "source": [
    "def gradient(X, W, b, y):\n",
    "    # N은 가중치의 개수\n",
    "    N = len(W)\n",
    "    \n",
    "    # y_pred 준비\n",
    "    y_pred = model(X, W, b)\n",
    "    \n",
    "    # 공식에 맞게 gradient 계산\n",
    "    dW = 1/N * 2 * X.T.dot(y_pred - y)\n",
    "        \n",
    "    # b의 gradient 계산\n",
    "    db = 2 * (y_pred - y).mean()\n",
    "    return dW, db"
   ]
  },
  {
   "cell_type": "code",
   "execution_count": 34,
   "id": "0a746011",
   "metadata": {},
   "outputs": [
    {
     "name": "stdout",
     "output_type": "stream",
     "text": [
      "dW: [ -60.49833307  -13.71502499 -189.48660803 -142.50478     -68.27619173\n",
      "  -56.02886676  127.61420919 -138.98264037 -182.77639361 -123.41601697]\n",
      "db: -302.6342335124779\n"
     ]
    }
   ],
   "source": [
    "dW, db = gradient(X, W, b, y)\n",
    "print(\"dW:\", dW)\n",
    "print(\"db:\", db)"
   ]
  },
  {
   "cell_type": "code",
   "execution_count": 35,
   "id": "e04aeac5",
   "metadata": {
    "scrolled": true
   },
   "outputs": [
    {
     "name": "stdout",
     "output_type": "stream",
     "text": [
      "Iteration 10 : Loss 21359.3028\n",
      "Iteration 20 : Loss 15905.1646\n",
      "Iteration 30 : Loss 12214.0510\n",
      "Iteration 40 : Loss 9704.6808\n",
      "Iteration 50 : Loss 7988.5168\n",
      "Iteration 60 : Loss 6805.7343\n",
      "Iteration 70 : Loss 5982.4751\n",
      "Iteration 80 : Loss 5402.3105\n",
      "Iteration 90 : Loss 4987.1879\n",
      "Iteration 100 : Loss 4684.7087\n",
      "Iteration 110 : Loss 4459.6319\n",
      "Iteration 120 : Loss 4288.1994\n",
      "Iteration 130 : Loss 4154.3444\n",
      "Iteration 140 : Loss 4047.1578\n",
      "Iteration 150 : Loss 3959.1942\n",
      "Iteration 160 : Loss 3885.3389\n",
      "Iteration 170 : Loss 3822.0488\n",
      "Iteration 180 : Loss 3766.8451\n",
      "Iteration 190 : Loss 3717.9716\n",
      "Iteration 200 : Loss 3674.1659\n",
      "Iteration 210 : Loss 3634.5054\n",
      "Iteration 220 : Loss 3598.3028\n",
      "Iteration 230 : Loss 3565.0362\n",
      "Iteration 240 : Loss 3534.3003\n",
      "Iteration 250 : Loss 3505.7744\n",
      "Iteration 260 : Loss 3479.1991\n",
      "Iteration 270 : Loss 3454.3611\n",
      "Iteration 280 : Loss 3431.0821\n",
      "Iteration 290 : Loss 3409.2104\n",
      "Iteration 300 : Loss 3388.6161\n",
      "Iteration 310 : Loss 3369.1862\n",
      "Iteration 320 : Loss 3350.8218\n",
      "Iteration 330 : Loss 3333.4359\n",
      "Iteration 340 : Loss 3316.9511\n",
      "Iteration 350 : Loss 3301.2988\n",
      "Iteration 360 : Loss 3286.4172\n",
      "Iteration 370 : Loss 3272.2511\n",
      "Iteration 380 : Loss 3258.7507\n",
      "Iteration 390 : Loss 3245.8709\n",
      "Iteration 400 : Loss 3233.5710\n",
      "Iteration 410 : Loss 3221.8139\n",
      "Iteration 420 : Loss 3210.5660\n",
      "Iteration 430 : Loss 3199.7964\n",
      "Iteration 440 : Loss 3189.4771\n",
      "Iteration 450 : Loss 3179.5823\n",
      "Iteration 460 : Loss 3170.0884\n",
      "Iteration 470 : Loss 3160.9734\n",
      "Iteration 480 : Loss 3152.2175\n",
      "Iteration 490 : Loss 3143.8018\n",
      "Iteration 500 : Loss 3135.7094\n",
      "Iteration 510 : Loss 3127.9241\n",
      "Iteration 520 : Loss 3120.4313\n",
      "Iteration 530 : Loss 3113.2169\n",
      "Iteration 540 : Loss 3106.2681\n",
      "Iteration 550 : Loss 3099.5729\n",
      "Iteration 560 : Loss 3093.1199\n",
      "Iteration 570 : Loss 3086.8985\n",
      "Iteration 580 : Loss 3080.8987\n",
      "Iteration 590 : Loss 3075.1111\n",
      "Iteration 600 : Loss 3069.5269\n",
      "Iteration 610 : Loss 3064.1376\n",
      "Iteration 620 : Loss 3058.9353\n",
      "Iteration 630 : Loss 3053.9126\n",
      "Iteration 640 : Loss 3049.0623\n",
      "Iteration 650 : Loss 3044.3776\n",
      "Iteration 660 : Loss 3039.8522\n",
      "Iteration 670 : Loss 3035.4799\n",
      "Iteration 680 : Loss 3031.2550\n",
      "Iteration 690 : Loss 3027.1717\n",
      "Iteration 700 : Loss 3023.2249\n",
      "Iteration 710 : Loss 3019.4096\n",
      "Iteration 720 : Loss 3015.7207\n",
      "Iteration 730 : Loss 3012.1538\n",
      "Iteration 740 : Loss 3008.7045\n",
      "Iteration 750 : Loss 3005.3683\n",
      "Iteration 760 : Loss 3002.1414\n",
      "Iteration 770 : Loss 2999.0198\n",
      "Iteration 780 : Loss 2995.9997\n",
      "Iteration 790 : Loss 2993.0776\n",
      "Iteration 800 : Loss 2990.2501\n",
      "Iteration 810 : Loss 2987.5138\n",
      "Iteration 820 : Loss 2984.8655\n",
      "Iteration 830 : Loss 2982.3022\n",
      "Iteration 840 : Loss 2979.8209\n",
      "Iteration 850 : Loss 2977.4188\n",
      "Iteration 860 : Loss 2975.0933\n",
      "Iteration 870 : Loss 2972.8416\n",
      "Iteration 880 : Loss 2970.6612\n",
      "Iteration 890 : Loss 2968.5498\n",
      "Iteration 900 : Loss 2966.5050\n",
      "Iteration 910 : Loss 2964.5245\n",
      "Iteration 920 : Loss 2962.6061\n",
      "Iteration 930 : Loss 2960.7478\n",
      "Iteration 940 : Loss 2958.9475\n",
      "Iteration 950 : Loss 2957.2034\n",
      "Iteration 960 : Loss 2955.5135\n",
      "Iteration 970 : Loss 2953.8760\n",
      "Iteration 980 : Loss 2952.2891\n",
      "Iteration 990 : Loss 2950.7513\n",
      "Iteration 1000 : Loss 2949.2608\n"
     ]
    }
   ],
   "source": [
    "LEARNING_RATE = 0.01\n",
    "losses = []\n",
    "\n",
    "for i in range(1, 1001):\n",
    "    dW, db = gradient(X_train, W, b, y_train)\n",
    "    W -= LEARNING_RATE * dW\n",
    "    b -= LEARNING_RATE * db\n",
    "    L = loss(X_train, W, b, y_train)\n",
    "    losses.append(L)\n",
    "    if i % 10 == 0:\n",
    "        print('Iteration %d : Loss %0.4f' % (i, L))"
   ]
  },
  {
   "cell_type": "code",
   "execution_count": 36,
   "id": "f27d4d06",
   "metadata": {},
   "outputs": [
    {
     "data": {
      "text/plain": [
       "(array([  48.25837718, -170.10791737,  470.53846166,  306.71885205,\n",
       "         -51.69558246,  -99.99535336, -209.69992113,  145.32489729,\n",
       "         350.92640958,  133.00909743]),\n",
       " 151.490933291188)"
      ]
     },
     "execution_count": 36,
     "metadata": {},
     "output_type": "execute_result"
    }
   ],
   "source": [
    "W, b"
   ]
  },
  {
   "cell_type": "code",
   "execution_count": 37,
   "id": "5aa4379c",
   "metadata": {},
   "outputs": [
    {
     "data": {
      "text/plain": [
       "2867.2796635598647"
      ]
     },
     "execution_count": 37,
     "metadata": {},
     "output_type": "execute_result"
    }
   ],
   "source": [
    "prediction = model(X_test, W, b)\n",
    "mse = loss(X_test, W, b, y_test)\n",
    "mse"
   ]
  },
  {
   "cell_type": "code",
   "execution_count": 38,
   "id": "f44d5b69",
   "metadata": {},
   "outputs": [
    {
     "data": {
      "image/png": "[encoded data removed]",
      "text/plain": [
       "<Figure size 432x288 with 1 Axes>"
      ]
     },
     "metadata": {
      "needs_background": "light"
     },
     "output_type": "display_data"
    }
   ],
   "source": [
    "import matplotlib.pyplot as plt\n",
    "plt.plot(losses)\n",
    "\n",
    "plt.scatter(X_test[:, 0], y_test)\n",
    "plt.scatter(X_test[:, 0], prediction)\n",
    "plt.show()"
   ]
  },
  {
   "cell_type": "code",
   "execution_count": null,
   "id": "942b6359",
   "metadata": {},
   "outputs": [],
   "source": [
    "1. 처음에 데이터 관련 전처리를 모두 하고 진행하는게 효율적이다.\n",
    "2. 자주 사용하는 method는 복붙이 편리하다.\n",
    "3. 싸이킷을 통해서 쉽게 손실함수의 최소값을 구하는 게 편하지만, 이렇게 과정을 이해하는 게 도움이 되었다.\n",
    "4. 학습률의 조정에 따라서 결과값이 크게 달라지는 것을 보았다."
   ]
  }
 ],
 "metadata": {
  "kernelspec": {
   "display_name": "Python 3 (ipykernel)",
   "language": "python",
   "name": "python3"
  },
  "language_info": {
   "codemirror_mode": {
    "name": "ipython",
    "version": 3
   },
   "file_extension": ".py",
   "mimetype": "text/x-python",
   "name": "python",
   "nbconvert_exporter": "python",
   "pygments_lexer": "ipython3",
   "version": "3.9.7"
  }
 },
 "nbformat": 4,
 "nbformat_minor": 5
}
